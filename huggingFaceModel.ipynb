{
 "cells": [
  {
   "cell_type": "code",
   "execution_count": null,
   "metadata": {},
   "outputs": [],
   "source": [
    "# !pip install transformers -> not sure if to keep or have as prereq, for now comment out"
   ]
  },
  {
   "cell_type": "code",
   "execution_count": 1,
   "metadata": {},
   "outputs": [
    {
     "name": "stdout",
     "output_type": "stream",
     "text": [
      "WARNING:tensorflow:From c:\\Users\\Federico Hurtado\\AppData\\Local\\Programs\\Python\\Python311\\Lib\\site-packages\\keras\\src\\losses.py:2976: The name tf.losses.sparse_softmax_cross_entropy is deprecated. Please use tf.compat.v1.losses.sparse_softmax_cross_entropy instead.\n",
      "\n"
     ]
    }
   ],
   "source": [
    "from transformers import pipeline"
   ]
  },
  {
   "cell_type": "code",
   "execution_count": 2,
   "metadata": {},
   "outputs": [
    {
     "name": "stderr",
     "output_type": "stream",
     "text": [
      "No model was supplied, defaulted to sshleifer/distilbart-cnn-12-6 and revision a4f8f3e (https://huggingface.co/sshleifer/distilbart-cnn-12-6).\n",
      "Using a pipeline without specifying a model name and revision in production is not recommended.\n"
     ]
    }
   ],
   "source": [
    "summarizer = pipeline('summarization')"
   ]
  },
  {
   "cell_type": "code",
   "execution_count": 14,
   "metadata": {},
   "outputs": [
    {
     "name": "stdout",
     "output_type": "stream",
     "text": [
      "In a groundbreaking development that could reshape the future of transportation, scientists have unveiled a new generation of solar-powered cars that harness the sun's energy to drive efficiently and sustainably. The technology, showcased at the International Renewable Energy Conference held in Silicon Valley, promises to address concerns about fossil fuel dependency and reduce the carbon footprint associated with traditional vehicles.\n",
      "\n",
      "The solar-powered cars, equipped with cutting-edge photovoltaic cells integrated into their exteriors, can convert sunlight into electricity to power the vehicle's electric motor. This innovation not only offers an eco-friendly alternative to conventional automobiles but also opens up new possibilities for cleaner and greener urban mobility.\n",
      "\n",
      "Dr. Amanda Rodriguez, lead researcher on the project, explained, \"Our goal was to create a vehicle that relies on renewable energy sources without compromising performance. By harnessing solar power, these cars can contribute to a more sustainable future, mitigating the environmental impact of transportation.\"\n",
      "\n",
      "The solar cells, developed using advanced materials, are designed to be highly efficient, capturing sunlight even in low-light conditions. This ensures that the solar-powered cars can operate effectively even on cloudy days or during nighttime with stored energy from daylight charging. Additionally, the integration of energy storage solutions, such as high-capacity batteries, ensures a consistent power supply for uninterrupted driving.\n",
      "\n",
      "Industry experts believe that the adoption of solar-powered cars could revolutionize the automotive sector and significantly reduce the reliance on non-renewable energy sources. The potential environmental benefits extend beyond emissions reduction, as these vehicles could contribute to lowering air pollution and dependence on finite fossil fuels.\n",
      "\n",
      "The unveiling of the solar-powered cars has sparked interest from major automakers, with several companies expressing plans to invest in the development and production of solar-powered vehicles. Governments and environmental organizations are also supportive of this initiative, recognizing the positive impact it could have on global efforts to combat climate change.\n",
      "\n",
      "However, challenges remain, including the cost of manufacturing and the need for extensive charging infrastructure to support widespread adoption. Critics argue that while solar-powered cars represent a step in the right direction, addressing these challenges is crucial for their success on a mass scale.\n",
      "\n",
      "As discussions around renewable energy and sustainability gain momentum, the solar-powered car may emerge as a symbol of progress in the ongoing battle against climate change. The hope is that these innovative vehicles will encourage a shift towards cleaner transportation solutions, setting the stage for a more sustainable and environmentally conscious future.\n",
      "\n",
      "In the coming months, further testing and refinement of the solar-powered cars are planned, with the aim of bringing these vehicles to the consumer market within the next few years. If successful, this could mark a turning point in the history of transportation, heralding a new era of solar-driven mobility.\n",
      "\n",
      "\n"
     ]
    }
   ],
   "source": [
    "# sample text for development (fictional article from chatGPT)\n",
    "text_file = 'sample_news_article.txt'\n",
    "\n",
    "with open(text_file, 'r') as file:\n",
    "    text_contents = file.read()\n",
    "\n",
    "print(text_contents)"
   ]
  },
  {
   "cell_type": "code",
   "execution_count": 20,
   "metadata": {},
   "outputs": [
    {
     "data": {
      "text/plain": [
       "[\"In a groundbreaking development that could reshape the future of transportation, scientists have unveiled a new generation of solar-powered cars that harness the sun's energy to drive efficiently and sustainably.\",\n",
       " 'The technology, showcased at the International Renewable Energy Conference held in Silicon Valley, promises to address concerns about fossil fuel dependency and reduce the carbon footprint associated with traditional vehicles.',\n",
       " \"The solar-powered cars, equipped with cutting-edge photovoltaic cells integrated into their exteriors, can convert sunlight into electricity to power the vehicle's electric motor.\",\n",
       " 'This innovation not only offers an eco-friendly alternative to conventional automobiles but also opens up new possibilities for cleaner and greener urban mobility.',\n",
       " 'Dr.',\n",
       " 'Amanda Rodriguez, lead researcher on the project, explained, \"Our goal was to create a vehicle that relies on renewable energy sources without compromising performance.',\n",
       " 'By harnessing solar power, these cars can contribute to a more sustainable future, mitigating the environmental impact of transportation.',\n",
       " '\"',\n",
       " 'The solar cells, developed using advanced materials, are designed to be highly efficient, capturing sunlight even in low-light conditions.',\n",
       " 'This ensures that the solar-powered cars can operate effectively even on cloudy days or during nighttime with stored energy from daylight charging.',\n",
       " 'Additionally, the integration of energy storage solutions, such as high-capacity batteries, ensures a consistent power supply for uninterrupted driving.',\n",
       " 'Industry experts believe that the adoption of solar-powered cars could revolutionize the automotive sector and significantly reduce the reliance on non-renewable energy sources.',\n",
       " 'The potential environmental benefits extend beyond emissions reduction, as these vehicles could contribute to lowering air pollution and dependence on finite fossil fuels.',\n",
       " 'The unveiling of the solar-powered cars has sparked interest from major automakers, with several companies expressing plans to invest in the development and production of solar-powered vehicles.',\n",
       " 'Governments and environmental organizations are also supportive of this initiative, recognizing the positive impact it could have on global efforts to combat climate change.',\n",
       " 'However, challenges remain, including the cost of manufacturing and the need for extensive charging infrastructure to support widespread adoption.',\n",
       " 'Critics argue that while solar-powered cars represent a step in the right direction, addressing these challenges is crucial for their success on a mass scale.',\n",
       " 'As discussions around renewable energy and sustainability gain momentum, the solar-powered car may emerge as a symbol of progress in the ongoing battle against climate change.',\n",
       " 'The hope is that these innovative vehicles will encourage a shift towards cleaner transportation solutions, setting the stage for a more sustainable and environmentally conscious future.',\n",
       " 'In the coming months, further testing and refinement of the solar-powered cars are planned, with the aim of bringing these vehicles to the consumer market within the next few years.',\n",
       " 'If successful, this could mark a turning point in the history of transportation, heralding a new era of solar-driven mobility.']"
      ]
     },
     "execution_count": 20,
     "metadata": {},
     "output_type": "execute_result"
    }
   ],
   "source": [
    "# split text into sentences (split by \".\", \"!\", and \"?\")\n",
    "text_contents = text_contents.replace('.', \".<eos>\")\n",
    "text_contents = text_contents.replace('!', \"!<eos>\")\n",
    "text_contents = text_contents.replace('?', \"?<eos>\")\n",
    "text_contents = text_contents.replace('\\n', \"<eos>\")\n",
    "\n",
    "text_sentences = [sentence.strip() for sentence in text_contents.split('<eos>') if sentence.strip()]\n",
    "\n",
    "text_sentences"
   ]
  },
  {
   "cell_type": "code",
   "execution_count": 29,
   "metadata": {},
   "outputs": [],
   "source": [
    "\n",
    "# limit data sent to summarizer to 500 words \n",
    "# combine sentences into <500 word chunks without breaking any sentences up\n",
    "sentence_chunks = []\n",
    "max_chunk_len = 500\n",
    "chunk_index = 0\n",
    "\n",
    "for sentence in text_sentences:\n",
    "    if len(sentence_chunks) == chunk_index + 1: # check if there is a current chunk\n",
    "        if len(sentence_chunks[chunk_index]) + len(sentence.split(' ')) <= max_chunk_len: # if sentence can be added to current chunk do so\n",
    "            sentence_chunks[chunk_index].extend(sentence.split(' ')) # add words to current chunk\n",
    "        else: # create new chunk\n",
    "            chunk_index += 1\n",
    "            sentence_chunks.append(sentence.split(' '))\n",
    "    else: # create a new chunk if there is not a current one\n",
    "        sentence_chunks.append(sentence.split(' '))\n",
    "        \n",
    "# join indidual words back into sentences\n",
    "for curr_chunk in range(len(sentence_chunks)):\n",
    "    sentence_chunks[curr_chunk] = ' '.join(sentence_chunks[curr_chunk])"
   ]
  },
  {
   "cell_type": "code",
   "execution_count": 31,
   "metadata": {},
   "outputs": [
    {
     "data": {
      "text/plain": [
       "'In a groundbreaking development that could reshape the future of transportation, scientists have unveiled a new generation of solar-powered cars that harness the sun\\'s energy to drive efficiently and sustainably. The technology, showcased at the International Renewable Energy Conference held in Silicon Valley, promises to address concerns about fossil fuel dependency and reduce the carbon footprint associated with traditional vehicles. The solar-powered cars, equipped with cutting-edge photovoltaic cells integrated into their exteriors, can convert sunlight into electricity to power the vehicle\\'s electric motor. This innovation not only offers an eco-friendly alternative to conventional automobiles but also opens up new possibilities for cleaner and greener urban mobility. Dr. Amanda Rodriguez, lead researcher on the project, explained, \"Our goal was to create a vehicle that relies on renewable energy sources without compromising performance. By harnessing solar power, these cars can contribute to a more sustainable future, mitigating the environmental impact of transportation. \" The solar cells, developed using advanced materials, are designed to be highly efficient, capturing sunlight even in low-light conditions. This ensures that the solar-powered cars can operate effectively even on cloudy days or during nighttime with stored energy from daylight charging. Additionally, the integration of energy storage solutions, such as high-capacity batteries, ensures a consistent power supply for uninterrupted driving. Industry experts believe that the adoption of solar-powered cars could revolutionize the automotive sector and significantly reduce the reliance on non-renewable energy sources. The potential environmental benefits extend beyond emissions reduction, as these vehicles could contribute to lowering air pollution and dependence on finite fossil fuels. The unveiling of the solar-powered cars has sparked interest from major automakers, with several companies expressing plans to invest in the development and production of solar-powered vehicles. Governments and environmental organizations are also supportive of this initiative, recognizing the positive impact it could have on global efforts to combat climate change. However, challenges remain, including the cost of manufacturing and the need for extensive charging infrastructure to support widespread adoption. Critics argue that while solar-powered cars represent a step in the right direction, addressing these challenges is crucial for their success on a mass scale. As discussions around renewable energy and sustainability gain momentum, the solar-powered car may emerge as a symbol of progress in the ongoing battle against climate change. The hope is that these innovative vehicles will encourage a shift towards cleaner transportation solutions, setting the stage for a more sustainable and environmentally conscious future. In the coming months, further testing and refinement of the solar-powered cars are planned, with the aim of bringing these vehicles to the consumer market within the next few years. If successful, this could mark a turning point in the history of transportation, heralding a new era of solar-driven mobility.'"
      ]
     },
     "execution_count": 31,
     "metadata": {},
     "output_type": "execute_result"
    }
   ],
   "source": [
    "sentence_chunks[0]"
   ]
  },
  {
   "cell_type": "code",
   "execution_count": 32,
   "metadata": {},
   "outputs": [],
   "source": [
    "text_summary = summarizer(sentence_chunks, max_length = 120, min_length = 30, do_sample = False)"
   ]
  },
  {
   "cell_type": "code",
   "execution_count": 33,
   "metadata": {},
   "outputs": [
    {
     "name": "stdout",
     "output_type": "stream",
     "text": [
      "[{'summary_text': \" A new generation of solar-powered cars harness the sun's energy to drive efficiently and sustainably . The technology promises to address concerns about fossil fuel dependency and reduce the carbon footprint associated with traditional vehicles . The solar cells, developed using advanced materials, are designed to be highly efficient, capturing sunlight in low-light conditions .\"}]\n"
     ]
    }
   ],
   "source": [
    "print(text_summary)"
   ]
  },
  {
   "cell_type": "code",
   "execution_count": null,
   "metadata": {},
   "outputs": [],
   "source": []
  }
 ],
 "metadata": {
  "kernelspec": {
   "display_name": "Python 3",
   "language": "python",
   "name": "python3"
  },
  "language_info": {
   "codemirror_mode": {
    "name": "ipython",
    "version": 3
   },
   "file_extension": ".py",
   "mimetype": "text/x-python",
   "name": "python",
   "nbconvert_exporter": "python",
   "pygments_lexer": "ipython3",
   "version": "3.11.0"
  }
 },
 "nbformat": 4,
 "nbformat_minor": 2
}
